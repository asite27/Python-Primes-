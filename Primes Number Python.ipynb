{
  "nbformat": 4,
  "nbformat_minor": 0,
  "metadata": {
    "colab": {
      "provenance": []
    },
    "kernelspec": {
      "name": "python3",
      "display_name": "Python 3"
    },
    "language_info": {
      "name": "python"
    }
  },
  "cells": [
    {
      "cell_type": "code",
      "source": [
        "# NO1\n",
        "def tugasprima(a):\n",
        "  if a < 2:\n",
        "    return False\n",
        "\n",
        "  for i in range(2,a):\n",
        "    if a%i == 0 :\n",
        "      return False\n",
        "\n",
        "  return True\n",
        "\n",
        "prima = set()\n",
        "\n",
        "for i in range(0, 20):\n",
        "  if tugasprima(i):\n",
        "    prima.add(i)\n",
        "    \n",
        "totalprima= 0\n",
        "total=0\n",
        "for primaa in prima:\n",
        "  totalprima+=1\n",
        "  total+=primaa\n",
        "\n",
        "print(\"Angkanya : \",prima)\n",
        "print(\"Total bilangan prima :\",totalprima)\n",
        "print(\"Banyaknya: \",total)"
      ],
      "metadata": {
        "colab": {
          "base_uri": "https://localhost:8080/"
        },
        "id": "Ml5TDcXbgzVK",
        "outputId": "4f387379-82ca-4e06-ceef-f38efc1012f2"
      },
      "execution_count": null,
      "outputs": [
        {
          "output_type": "stream",
          "name": "stdout",
          "text": [
            "Angkanya :  {2, 3, 5, 7, 11, 13, 17, 19}\n",
            "Total bilangan prima : 8\n",
            "Banyaknya:  77\n"
          ]
        }
      ]
    },
    {
      "cell_type": "code",
      "source": [
        "# NO2\n",
        "def tugasprima(a):\n",
        "  if a < 2:\n",
        "    return False\n",
        "\n",
        "  for i in range(2,a):\n",
        "    if a%i == 0 :\n",
        "      return False\n",
        "\n",
        "  return True\n",
        "\n",
        "\n",
        "# Inputan User\n",
        "a = int(input(\"Masukkan batasan bilangan: \"))\n",
        "prima = set()\n",
        "\n",
        "for i in range(0, a+1):\n",
        "  if tugasprima(i):\n",
        "    prima.add(i)\n",
        "    \n",
        "totalprima= 0\n",
        "total=0\n",
        "for primaa in prima:\n",
        "  totalprima+=1\n",
        "  total+=primaa\n",
        "\n",
        "print(\"Angkanya : \",prima)\n",
        "print(\"Total bilangan prima :\",totalprima)\n",
        "print(\"Banyaknya: \",total)"
      ],
      "metadata": {
        "colab": {
          "base_uri": "https://localhost:8080/"
        },
        "id": "irxjoiXGS0l8",
        "outputId": "c8e4bcab-e831-42ec-d450-87aab588f0ca"
      },
      "execution_count": null,
      "outputs": [
        {
          "output_type": "stream",
          "name": "stdout",
          "text": [
            "Masukkan batasan bilangan: 5\n",
            "Angkanya :  {2, 3, 5}\n",
            "Total bilangan prima : 3\n",
            "Banyaknya:  10\n"
          ]
        }
      ]
    }
  ]
}